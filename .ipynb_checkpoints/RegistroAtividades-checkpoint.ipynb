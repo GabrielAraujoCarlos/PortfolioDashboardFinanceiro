{
 "cells": [
  {
   "cell_type": "markdown",
   "id": "e0ceac75",
   "metadata": {},
   "source": [
    "# Registro de atividades realizadas"
   ]
  },
  {
   "cell_type": "markdown",
   "id": "187d7fc0",
   "metadata": {},
   "source": [
    "###### Para a criação deste dashboard financeiro, opto pela base de dados AdventureWorks Data Warehouse por ser pública e representativa de uma empresa real"
   ]
  },
  {
   "cell_type": "markdown",
   "id": "93015c91",
   "metadata": {},
   "source": [
    "Realizada a carga inicial da base, trazendo a tabela FactFinance e suas relacionadas. Adicionei a tabela DimCurrency pois verifiquei que possui a informação do nome da moeda e entendo ser importante a minha análise financeira."
   ]
  },
  {
   "cell_type": "markdown",
   "id": "30522eda",
   "metadata": {},
   "source": [
    "Entendo que a informação importante da DimCurrency é apenas o nome da moeda, portanto levo essa informação para a tabela DimOrganization simplificando o modelo para estrela invés de snowflake. Em adicional, removo a CurrencyKey e coluan de relacionamento criadas na importação."
   ]
  },
  {
   "cell_type": "markdown",
   "id": "c50e1edd",
   "metadata": {},
   "source": []
  },
  {
   "cell_type": "markdown",
   "id": "96705166",
   "metadata": {},
   "source": []
  }
 ],
 "metadata": {
  "kernelspec": {
   "display_name": "Python 3 (ipykernel)",
   "language": "python",
   "name": "python3"
  },
  "language_info": {
   "codemirror_mode": {
    "name": "ipython",
    "version": 3
   },
   "file_extension": ".py",
   "mimetype": "text/x-python",
   "name": "python",
   "nbconvert_exporter": "python",
   "pygments_lexer": "ipython3",
   "version": "3.9.13"
  }
 },
 "nbformat": 4,
 "nbformat_minor": 5
}
